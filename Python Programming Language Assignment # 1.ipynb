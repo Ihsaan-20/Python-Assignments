{
 "cells": [
  {
   "cell_type": "code",
   "execution_count": 12,
   "metadata": {},
   "outputs": [
    {
     "name": "stdout",
     "output_type": "stream",
     "text": [
      "Twinkle, twinkle, little star,\n",
      " \tHow I wonder what you are!\n",
      " \t\tUp above the world so high,\n",
      "\t\tLike a diamond in the sky.\n",
      "Twinkle, twinkle little star,\n",
      "\t How I wonder what you are\n"
     ]
    }
   ],
   "source": [
    "poem=  \"Twinkle, twinkle, little star,\\n \\tHow I wonder what you are!\\n \\t\\tUp above the world so high,\\n\\t\\tLike a diamond in the sky.\\nTwinkle, twinkle little star,\\n\\t How I wonder what you are\"\n",
    "print(poem)"
   ]
  },
  {
   "cell_type": "code",
   "execution_count": 13,
   "metadata": {},
   "outputs": [
    {
     "name": "stdout",
     "output_type": "stream",
     "text": [
      "Python 3\n"
     ]
    }
   ],
   "source": [
    "version = \"Python 3\"\n",
    "print(version)"
   ]
  },
  {
   "cell_type": "code",
   "execution_count": 18,
   "metadata": {},
   "outputs": [
    {
     "name": "stdout",
     "output_type": "stream",
     "text": [
      "4 November 2019 <> 2:41 PM\n"
     ]
    }
   ],
   "source": [
    "time= \"2:41 PM\"\n",
    "date= \"4 November 2019\"\n",
    "print(date +\" <> \"+ time )"
   ]
  },
  {
   "cell_type": "code",
   "execution_count": 23,
   "metadata": {},
   "outputs": [
    {
     "name": "stdout",
     "output_type": "stream",
     "text": [
      "Enter Radius of circle: 20\n",
      "1256.636\n"
     ]
    }
   ],
   "source": [
    "data=float(input(\"Enter Radius of circle: \"))\n",
    "area=3.14159*data**2\n",
    "print(area)"
   ]
  },
  {
   "cell_type": "code",
   "execution_count": 24,
   "metadata": {},
   "outputs": [
    {
     "name": "stdout",
     "output_type": "stream",
     "text": [
      "Ihsaan Muhammad\n"
     ]
    }
   ],
   "source": [
    "First_name= \"Muhammad\"\n",
    "Last_name= \"Ihsaan\"\n",
    "Space = \" \"\n",
    "print(Last_name+Space+First_name)"
   ]
  },
  {
   "cell_type": "code",
   "execution_count": 30,
   "metadata": {},
   "outputs": [
    {
     "name": "stdout",
     "output_type": "stream",
     "text": [
      "Enter value of a: 50\n",
      "Enter value of b: 50\n",
      "100\n"
     ]
    }
   ],
   "source": [
    "a=(input(\"Enter value of a: \"))\n",
    "b=(input(\"Enter value of b: \"))\n",
    "c=int(a)+int(b)\n",
    "print(+c)"
   ]
  },
  {
   "cell_type": "code",
   "execution_count": null,
   "metadata": {},
   "outputs": [],
   "source": []
  },
  {
   "cell_type": "code",
   "execution_count": null,
   "metadata": {},
   "outputs": [],
   "source": []
  }
 ],
 "metadata": {
  "kernelspec": {
   "display_name": "Python 3",
   "language": "python",
   "name": "python3"
  },
  "language_info": {
   "codemirror_mode": {
    "name": "ipython",
    "version": 3
   },
   "file_extension": ".py",
   "mimetype": "text/x-python",
   "name": "python",
   "nbconvert_exporter": "python",
   "pygments_lexer": "ipython3",
   "version": "3.7.4"
  }
 },
 "nbformat": 4,
 "nbformat_minor": 2
}
